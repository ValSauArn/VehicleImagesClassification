{
 "cells": [
  {
   "cell_type": "markdown",
   "id": "9e092b71",
   "metadata": {},
   "source": [
    "# Swissroads Project: 06 - Non linear classifiers  \n",
    "\n",
    "## General presentation\n",
    "This is the first notebook of the Swissroad classification project. The aim of this project is to construct several classifiers to identify vehicles photographied in the streets around the Swiss School: EPFL. The project will be split into 9 jupyter notebook, each performing a specific task.\n",
    "Our dataset comprises color photographies of 6 different types of vehicles: \n",
    "* Bikes\n",
    "* Cars \n",
    "* Motorcycles\n",
    "* Trucks \n",
    "* Vans \n",
    "* Others (for example, buses, scooters, etc.) \n",
    "Our data is already split into a train, validation and test set, with respectively: 280, 139 and 50 images of sizes 250x250. \n",
    "This is a relatively small dataset. When state of the art models trained for similar tasks on larger datasets are already documented and available, a beneficial option is to use one of these pre-trained model on our own dataset, either for classification purposes directly, or as a way of extracting features from the deep layers to inject these features in other machine learning models. This option is beneficial as it allows us to benefit from information obtained on a very large dataset and allows us to save time, as training complex convolutional networks is computationally expensive and can be very time consuming especially on a personal computer. \n",
    "\n",
    "For this project, we will use the Inception_v3 model available on the tensorflow hub to extract the 2048 most important features and use them in different classifiers: \n",
    "* A k-nearest neighbors classifiers\n",
    "* A simple decision tree\n",
    "* A logistic regression model\n",
    "* Non linear classifiers such as Random Forest and SVMs \n",
    "* A dense network\n",
    "\n",
    "Finally, we will also attempt to achieve the same level of accuracy by training our own convolutional network from scratch on our specific dataset.\n",
    "\n",
    "\n",
    "## Aim of this notebook  \n",
    "\n",
    "The goal of this jupyter notebook, is to classify images of vehicles which are part of the swissroads dataset, using non linear classifiers, such as random forests and svms. \n",
    "\n",
    "The dataset was first preprocessed with the Inception_v3 convolutional network of the tensorflow hub, in order to extract 2048 high-level features. "
   ]
  },
  {
   "cell_type": "code",
   "execution_count": 1,
   "id": "0a01658b",
   "metadata": {},
   "outputs": [
    {
     "name": "stderr",
     "output_type": "stream",
     "text": [
      "WARNING:absl:Some hub symbols are not available because TensorFlow version is less than 1.14\n"
     ]
    }
   ],
   "source": [
    "# loading libraries\n",
    "\n",
    "import tensorflow as tf\n",
    "import tensorflow_hub as hub\n",
    "import matplotlib.pyplot as plt\n",
    "import numpy as np\n",
    "import pandas as pd\n",
    "import os\n",
    "from sklearn.preprocessing import OrdinalEncoder"
   ]
  },
  {
   "cell_type": "code",
   "execution_count": 2,
   "id": "0ead2ff0",
   "metadata": {},
   "outputs": [],
   "source": [
    "# loading data\n",
    "# Load data\n",
    "with np.load('data/train.npz', allow_pickle=False) as npz_file:\n",
    "    X_tr = npz_file['features']\n",
    "    y_tr = npz_file['targets']\n",
    "    names_tr = npz_file['names']\n",
    "    \n",
    "with np.load('data/valid.npz', allow_pickle=False) as npz_file:\n",
    "    X_val = npz_file['features']\n",
    "    y_val = npz_file['targets']\n",
    "    names_val = npz_file['names']\n",
    "    \n",
    "with np.load('data/test.npz', allow_pickle=False) as npz_file:\n",
    "    X_te = npz_file['features']\n",
    "    y_te = npz_file['targets']\n",
    "    names_te = npz_file['names']"
   ]
  },
  {
   "cell_type": "code",
   "execution_count": 3,
   "id": "f4a156da",
   "metadata": {},
   "outputs": [],
   "source": [
    "# numerical encoding of target variables\n",
    "\n",
    "encoder = OrdinalEncoder()\n",
    "enc_y_tr = encoder.fit_transform(y_tr.reshape(-1, 1))\n",
    "enc_y_val = encoder.transform(y_val.reshape(-1, 1))\n",
    "enc_y_te = encoder.transform(y_te.reshape(-1, 1))\n"
   ]
  },
  {
   "cell_type": "markdown",
   "id": "f01865ac",
   "metadata": {},
   "source": [
    "## Random forest\n",
    "\n",
    "For the first part of this notebook, we will train a random forest, first on the 2048 high level features, then after reducing dimensions with a PCA. "
   ]
  },
  {
   "cell_type": "code",
   "execution_count": 4,
   "id": "6c75ce2d",
   "metadata": {},
   "outputs": [],
   "source": [
    "from sklearn.ensemble import RandomForestClassifier\n",
    "from sklearn.pipeline import Pipeline\n",
    "from sklearn.preprocessing import StandardScaler\n",
    "from sklearn import metrics \n",
    "from sklearn.model_selection import ParameterGrid\n",
    "from sklearn.model_selection import RandomizedSearchCV"
   ]
  },
  {
   "cell_type": "markdown",
   "id": "2068fc65",
   "metadata": {},
   "source": [
    "First, let's try a random forest without tuning: "
   ]
  },
  {
   "cell_type": "code",
   "execution_count": 5,
   "id": "ae451c08",
   "metadata": {},
   "outputs": [
    {
     "name": "stdout",
     "output_type": "stream",
     "text": [
      "Model Performance\n",
      "Accuracy = 85.61%.\n"
     ]
    }
   ],
   "source": [
    "def evaluate(model, test_features, test_labels):\n",
    "    predictions = model.predict(test_features)\n",
    "    accuracy =  metrics.accuracy_score(test_labels, predictions)\n",
    "    print('Model Performance')\n",
    "    print('Accuracy = {:0.2f}%.'.format(accuracy*100))\n",
    "    \n",
    "    return accuracy\n",
    "base_model = RandomForestClassifier(n_estimators = 10, random_state = 42)\n",
    "base_model.fit(X_tr, np.ravel(enc_y_tr))\n",
    "base_accuracy = evaluate(base_model, X_val, np.ravel(enc_y_val))"
   ]
  },
  {
   "cell_type": "markdown",
   "id": "7a7d368d",
   "metadata": {},
   "source": [
    "The validation accuracy on an untrained model is already of 86%.\n",
    "\n",
    "Let's now fine tune our classifier. \n",
    "We will tune the following parameters: \n",
    "\n",
    "* n_estimators: the number of trees in the random forest\n",
    "* max_features: the number of features to consider when looking for the best split\n",
    "* max_depth: The maximum number of levels in the trees\n",
    "* min_samples_split: the minimum number of samples required to split a node\n",
    "* min_samples_leaf: the minimum number of samples required at each leaf node\n",
    "* bootstrap: the method of selecting samples for training each tree"
   ]
  },
  {
   "cell_type": "code",
   "execution_count": 6,
   "id": "993f16bb",
   "metadata": {},
   "outputs": [],
   "source": [
    "# create parameter grid\n",
    "# Number of trees in random forest\n",
    "n_estimators = [int(x) for x in np.linspace(start = 200, stop = 2000, num = 10)]\n",
    "# Number of features to consider at every split\n",
    "max_features = ['sqrt', 'log2', None]\n",
    "# Maximum number of levels in tree\n",
    "max_depth = [int(x) for x in np.linspace(10, 110, num = 11)]\n",
    "max_depth.append(None)\n",
    "# Minimum number of samples required to split a node\n",
    "min_samples_split = [2, 5, 10]\n",
    "# Minimum number of samples required at each leaf node\n",
    "min_samples_leaf = [1, 2, 4]\n",
    "# Method of selecting samples for training each tree\n",
    "bootstrap = [True, False]\n",
    "\n",
    "# Create the random grid\n",
    "params_dict = {'n_estimators': n_estimators,\n",
    "               'max_features': max_features,\n",
    "               'max_depth': max_depth,\n",
    "               'min_samples_split': min_samples_split,\n",
    "               'min_samples_leaf': min_samples_leaf,\n",
    "               'bootstrap': bootstrap}"
   ]
  },
  {
   "cell_type": "code",
   "execution_count": 7,
   "id": "1ac02154",
   "metadata": {},
   "outputs": [],
   "source": [
    "#create  pipeline\n",
    "# Use the random grid to search for best hyperparameters\n",
    "# First create the base model to tune\n",
    "rf = RandomForestClassifier()\n",
    "# Random search of parameters, using 3 fold cross validation, \n",
    "# search across 100 different combinations, and use all available cores\n",
    "rf_random = RandomizedSearchCV(estimator = rf, param_distributions = params_dict, n_iter = 100, cv = 3, verbose=2, random_state=42, n_jobs = -1)"
   ]
  },
  {
   "cell_type": "code",
   "execution_count": 8,
   "id": "cbb8d15b",
   "metadata": {},
   "outputs": [
    {
     "name": "stdout",
     "output_type": "stream",
     "text": [
      "Fitting 3 folds for each of 100 candidates, totalling 300 fits\n"
     ]
    },
    {
     "data": {
      "text/plain": [
       "RandomizedSearchCV(cv=3, estimator=RandomForestClassifier(), n_iter=100,\n",
       "                   n_jobs=-1,\n",
       "                   param_distributions={'bootstrap': [True, False],\n",
       "                                        'max_depth': [10, 20, 30, 40, 50, 60,\n",
       "                                                      70, 80, 90, 100, 110,\n",
       "                                                      None],\n",
       "                                        'max_features': ['sqrt', 'log2', None],\n",
       "                                        'min_samples_leaf': [1, 2, 4],\n",
       "                                        'min_samples_split': [2, 5, 10],\n",
       "                                        'n_estimators': [200, 400, 600, 800,\n",
       "                                                         1000, 1200, 1400, 1600,\n",
       "                                                         1800, 2000]},\n",
       "                   random_state=42, verbose=2)"
      ]
     },
     "execution_count": 8,
     "metadata": {},
     "output_type": "execute_result"
    }
   ],
   "source": [
    "# Fit the random search model\n",
    "rf_random.fit(np.vstack((X_tr, X_val)), np.ravel(np.concatenate((enc_y_tr, enc_y_val))))"
   ]
  },
  {
   "cell_type": "code",
   "execution_count": 9,
   "id": "3911fd7e",
   "metadata": {},
   "outputs": [
    {
     "data": {
      "text/plain": [
       "{'n_estimators': 1000,\n",
       " 'min_samples_split': 2,\n",
       " 'min_samples_leaf': 1,\n",
       " 'max_features': 'sqrt',\n",
       " 'max_depth': 40,\n",
       " 'bootstrap': False}"
      ]
     },
     "execution_count": 9,
     "metadata": {},
     "output_type": "execute_result"
    }
   ],
   "source": [
    "rf_random.best_params_\n"
   ]
  },
  {
   "cell_type": "code",
   "execution_count": 10,
   "id": "6d4a5b3e",
   "metadata": {},
   "outputs": [
    {
     "name": "stdout",
     "output_type": "stream",
     "text": [
      "Model Performance\n",
      "Accuracy = 94.00%.\n"
     ]
    }
   ],
   "source": [
    "best_random = rf_random.best_estimator_\n",
    "random_accuracy = evaluate(best_random, X_te, enc_y_te)"
   ]
  },
  {
   "cell_type": "markdown",
   "id": "15e4bb39",
   "metadata": {},
   "source": [
    "The resulting performance is the same as the tuned decision tree with dimension reduction \n",
    "\n"
   ]
  },
  {
   "cell_type": "markdown",
   "id": "613f20cb",
   "metadata": {},
   "source": [
    "As an experiment, we play with the number of tree in the forest ( numbe of estimators0, while keeping the other optimal parameters fixed). "
   ]
  },
  {
   "cell_type": "code",
   "execution_count": 11,
   "id": "4b301295",
   "metadata": {},
   "outputs": [
    {
     "name": "stdout",
     "output_type": "stream",
     "text": [
      "Fitting 3 folds for each of 200 candidates, totalling 600 fits\n"
     ]
    },
    {
     "data": {
      "text/plain": [
       "RandomizedSearchCV(cv=3,\n",
       "                   estimator=RandomForestClassifier(bootstrap=False,\n",
       "                                                    max_depth=40,\n",
       "                                                    max_features='sqrt'),\n",
       "                   n_iter=200, n_jobs=-1,\n",
       "                   param_distributions={'n_estimators': [1, 11, 21, 31, 41, 51,\n",
       "                                                         61, 71, 81, 91, 101,\n",
       "                                                         111, 121, 131, 141,\n",
       "                                                         151, 161, 171, 181,\n",
       "                                                         191, 201, 211, 221,\n",
       "                                                         232, 242, 252, 262,\n",
       "                                                         272, 282, 292, ...]},\n",
       "                   random_state=42, verbose=2)"
      ]
     },
     "execution_count": 11,
     "metadata": {},
     "output_type": "execute_result"
    }
   ],
   "source": [
    "rf_test_nestimators = RandomForestClassifier(min_samples_split = rf_random.best_params_['min_samples_split'], \n",
    "                                             min_samples_leaf = rf_random.best_params_['min_samples_leaf'], \n",
    "                                             max_features = rf_random.best_params_['max_features'],\n",
    "                                             max_depth = rf_random.best_params_['max_depth'],\n",
    "                                             bootstrap = rf_random.best_params_['bootstrap']\n",
    "                                            )\n",
    "params_dict_esti = {'n_estimators': [int(x) for x in np.linspace(start = 1, stop = 2000, num = 200)]}\n",
    "rf_random_nestimators = RandomizedSearchCV(estimator = rf_test_nestimators,n_iter = 200,  param_distributions = params_dict_esti, cv = 3, verbose=2, random_state=42, n_jobs = -1)\n",
    "\n",
    "# Fit the random search model\n",
    "rf_random_nestimators.fit(np.vstack((X_tr, X_val)), np.ravel(np.concatenate((enc_y_tr, enc_y_val))))"
   ]
  },
  {
   "cell_type": "code",
   "execution_count": 12,
   "id": "6c5d242f",
   "metadata": {},
   "outputs": [],
   "source": [
    "df_estimators = pd.DataFrame(rf_random_nestimators.cv_results_['params'], rf_random_nestimators.cv_results_['mean_test_score']).reset_index()\n",
    "df_estimators = df_estimators.sort_values(by = 'n_estimators', ascending = True)"
   ]
  },
  {
   "cell_type": "code",
   "execution_count": 14,
   "id": "eaf51f7d",
   "metadata": {},
   "outputs": [
    {
     "data": {
      "image/png": "[encoded data removed]",
      "text/plain": [
       "<Figure size 1080x720 with 1 Axes>"
      ]
     },
     "metadata": {
      "needs_background": "light"
     },
     "output_type": "display_data"
    }
   ],
   "source": [
    "%matplotlib inline\n",
    "import matplotlib.pyplot as plt\n",
    "\n",
    "fig = plt.figure(figsize=(15, 10))\n",
    "plt.plot(df_estimators['n_estimators'] , df_estimators['index'])\n",
    "plt.xlabel('N estimators')\n",
    "plt.ylabel('Accuracy')\n",
    "plt.show()"
   ]
  },
  {
   "cell_type": "markdown",
   "id": "3a08a7ff",
   "metadata": {},
   "source": [
    "We can see that increasing the number of estimators in the forest increases the accuracy, but only until a certain point after which, we reach a plateau and the accuracy doesnt increase anymore. "
   ]
  },
  {
   "cell_type": "markdown",
   "id": "b52ea237",
   "metadata": {},
   "source": [
    "## SVM \n",
    "\n",
    "Next, we try to fit a linear SVM. \n",
    "\n",
    "For this classifier, we will tune the following parameters: \n",
    "* penalty: specifies the norm used in the SVC, with l1 being a sparse solution and the l2 being the regular norm\n",
    "* loss function: the loss function to use\n",
    "* regularization strength: The bigger the C parameter, the weaker the regularization."
   ]
  },
  {
   "cell_type": "code",
   "execution_count": 15,
   "id": "912076dc",
   "metadata": {},
   "outputs": [],
   "source": [
    "from sklearn.svm import LinearSVC\n",
    "\n",
    "# Create SVM with linear kernel\n",
    "linear_svc = LinearSVC(random_state = 0, max_iter = 10000, dual = True)\n"
   ]
  },
  {
   "cell_type": "code",
   "execution_count": 16,
   "id": "12391813",
   "metadata": {},
   "outputs": [],
   "source": [
    "# create parameter grid\n",
    "# penalty\n",
    "penalty = ['l1', 'l2']\n",
    "# regularization strength \n",
    "C = [0.001, 0.01, 0.1,1, 10, 100, 1000]\n",
    "\n",
    "\n",
    "# Create the random grid\n",
    "params_dict = [{'penalty': penalty,\n",
    "               'loss': ['hinge'],\n",
    "               'C': C\n",
    "              }, \n",
    "               {'penalty': [\"l2\"],\n",
    "               'loss': ['squared_hinge'],\n",
    "               'C': C\n",
    "              }\n",
    "              ]"
   ]
  },
  {
   "cell_type": "code",
   "execution_count": 17,
   "id": "99b4eed5",
   "metadata": {},
   "outputs": [],
   "source": [
    "from sklearn.model_selection import GridSearchCV\n",
    "grid_search_linear = GridSearchCV(estimator = linear_svc, param_grid = params_dict, \n",
    "                          cv = 10, n_jobs = -1, verbose = 2, error_score = np.nan)"
   ]
  },
  {
   "cell_type": "code",
   "execution_count": 18,
   "id": "711fc240",
   "metadata": {},
   "outputs": [
    {
     "name": "stdout",
     "output_type": "stream",
     "text": [
      "Fitting 10 folds for each of 21 candidates, totalling 210 fits\n"
     ]
    },
    {
     "name": "stderr",
     "output_type": "stream",
     "text": [
      "C:\\Users\\Valou\\anaconda3\\envs\\exts-ml\\lib\\site-packages\\sklearn\\model_selection\\_search.py:925: UserWarning: One or more of the test scores are non-finite: [       nan 0.87828107        nan 0.92839721        nan 0.91643438\n",
      "        nan 0.91643438        nan 0.91643438        nan 0.91643438\n",
      "        nan 0.91643438 0.92119628 0.92351916 0.91881533 0.91643438\n",
      " 0.91643438 0.91643438 0.91643438]\n",
      "  category=UserWarning\n"
     ]
    },
    {
     "data": {
      "text/plain": [
       "{'C': 0.01, 'loss': 'hinge', 'penalty': 'l2'}"
      ]
     },
     "execution_count": 18,
     "metadata": {},
     "output_type": "execute_result"
    }
   ],
   "source": [
    "grid_search_linear.fit(np.vstack((X_tr, X_val)), np.ravel(np.concatenate((enc_y_tr, enc_y_val))))\n",
    "grid_search_linear.best_params_"
   ]
  },
  {
   "cell_type": "markdown",
   "id": "e8aa6a9c",
   "metadata": {},
   "source": [
    "The best performance is achieved with C = 0.01, a hinged loss function and the regular l2 norm. "
   ]
  },
  {
   "cell_type": "code",
   "execution_count": 19,
   "id": "e28c2ebc",
   "metadata": {},
   "outputs": [
    {
     "name": "stdout",
     "output_type": "stream",
     "text": [
      "Model Performance\n",
      "Accuracy = 96.00%.\n"
     ]
    }
   ],
   "source": [
    "best_grid_linear = grid_search_linear.best_estimator_\n",
    "grid_accuracy_linear = evaluate(best_grid_linear, X_te, enc_y_te)"
   ]
  },
  {
   "cell_type": "markdown",
   "id": "81a7243d",
   "metadata": {},
   "source": [
    "The test accuracy on this tuned linear SVM is 96%, which is slightly better than for the random forest> \n",
    "\n",
    "Now, let's tune SVM with a RBF kernel. \n",
    "\n",
    "### RBF kernel \n",
    "\n",
    "For this classifier, we will tune: \n",
    "* C: the regularization parameter\n",
    "* Gamma: the kernel coefficient"
   ]
  },
  {
   "cell_type": "code",
   "execution_count": 20,
   "id": "f97a1159",
   "metadata": {},
   "outputs": [],
   "source": [
    "from sklearn.svm import SVC\n",
    "rbf_svc = SVC(random_state= 0)"
   ]
  },
  {
   "cell_type": "code",
   "execution_count": 21,
   "id": "85a480b5",
   "metadata": {},
   "outputs": [],
   "source": [
    "# create parameter grid\n",
    "# regularization strength \n",
    "C = [0.001, 0.01, 0.1,1, 10, 100, 1000]\n",
    "\n",
    "gamma = [0.001, 0.01, 0.1,1, 10, 100, 1000]\n",
    "\n",
    "# Create the random grid\n",
    "params_dict = {'gamma' : gamma,\n",
    "               'C': C,              \n",
    "              }"
   ]
  },
  {
   "cell_type": "code",
   "execution_count": 22,
   "id": "4edef489",
   "metadata": {},
   "outputs": [],
   "source": [
    "grid_search_rbf = GridSearchCV(estimator = rbf_svc, param_grid = params_dict, \n",
    "                          cv = 10, n_jobs = -1, verbose = 2, error_score = np.nan)"
   ]
  },
  {
   "cell_type": "code",
   "execution_count": 23,
   "id": "d8b74ca2",
   "metadata": {},
   "outputs": [
    {
     "name": "stdout",
     "output_type": "stream",
     "text": [
      "Fitting 10 folds for each of 49 candidates, totalling 490 fits\n"
     ]
    },
    {
     "data": {
      "text/plain": [
       "{'C': 100, 'gamma': 0.001}"
      ]
     },
     "execution_count": 23,
     "metadata": {},
     "output_type": "execute_result"
    }
   ],
   "source": [
    "grid_search_rbf.fit(np.vstack((X_tr, X_val)), np.ravel(np.concatenate((enc_y_tr, enc_y_val))))\n",
    "grid_search_rbf.best_params_"
   ]
  },
  {
   "cell_type": "markdown",
   "id": "863e3b59",
   "metadata": {},
   "source": [
    "The best accuracy is achieved with C = 100, which is rather large and means that there is no regularization, and gamma = 0.001. "
   ]
  },
  {
   "cell_type": "code",
   "execution_count": 24,
   "id": "0b1ac60f",
   "metadata": {},
   "outputs": [
    {
     "name": "stdout",
     "output_type": "stream",
     "text": [
      "Model Performance\n",
      "Accuracy = 96.00%.\n"
     ]
    }
   ],
   "source": [
    "best_grid_rbf = grid_search_rbf.best_estimator_\n",
    "grid_accuracy_rbf = evaluate(best_grid_rbf, X_te, enc_y_te)"
   ]
  },
  {
   "cell_type": "markdown",
   "id": "c5498677",
   "metadata": {},
   "source": [
    "We have the same performance using a tuned linear SVM vs a tuned RBF kernel SVM, and both perform slightly better than the random forest. \n",
    "\n",
    "Finally, we save these results in order to compare all different models. "
   ]
  },
  {
   "cell_type": "code",
   "execution_count": 25,
   "id": "239125a5",
   "metadata": {},
   "outputs": [],
   "source": [
    "np.savez('results/05_random_forest.npz', test_accuracy=random_accuracy)\n",
    "np.savez('results/06_linear_svm.npz', test_accuracy=grid_accuracy_linear)\n",
    "np.savez('results/07_rbf_svm.npz', test_accuracy=grid_accuracy_rbf)\n"
   ]
  }
 ],
 "metadata": {
  "kernelspec": {
   "display_name": "Python 3",
   "language": "python",
   "name": "python3"
  },
  "language_info": {
   "codemirror_mode": {
    "name": "ipython",
    "version": 3
   },
   "file_extension": ".py",
   "mimetype": "text/x-python",
   "name": "python",
   "nbconvert_exporter": "python",
   "pygments_lexer": "ipython3",
   "version": "3.6.13"
  }
 },
 "nbformat": 4,
 "nbformat_minor": 5
}

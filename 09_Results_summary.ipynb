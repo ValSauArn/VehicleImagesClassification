{
 "cells": [
  {
   "cell_type": "markdown",
   "id": "89d4da02",
   "metadata": {},
   "source": [
    "# Swissroads Project: 08 - Convulational network  \n",
    "\n",
    "## General presentation\n",
    "This is the first notebook of the Swissroad classification project. The aim of this project is to construct several classifiers to identify vehicles photographied in the streets around the Swiss School: EPFL. The project will be split into 9 jupyter notebook, each performing a specific task.\n",
    "Our dataset comprises color photographies of 6 different types of vehicles: \n",
    "* Bikes\n",
    "* Cars \n",
    "* Motorcycles\n",
    "* Trucks \n",
    "* Vans \n",
    "* Others (for example, buses, scooters, etc.) \n",
    "Our data is already split into a train, validation and test set, with respectively: 280, 139 and 50 images of sizes 250x250. \n",
    "This is a relatively small dataset. When state of the art models trained for similar tasks on larger datasets are already documented and available, a beneficial option is to use one of these pre-trained model on our own dataset, either for classification purposes directly, or as a way of extracting features from the deep layers to inject these features in other machine learning models. This option is beneficial as it allows us to benefit from information obtained on a very large dataset and allows us to save time, as training complex convolutional networks is computationally expensive and can be very time consuming especially on a personal computer. \n",
    "\n",
    "For this project, we will use the Inception_v3 model available on the tensorflow hub to extract the 2048 most important features and use them in different classifiers: \n",
    "* A k-nearest neighbors classifiers\n",
    "* A simple decision tree\n",
    "* A logistic regression model\n",
    "* Non linear classifiers such as Random Forest and SVMs \n",
    "* A dense network\n",
    "\n",
    "Finally, we will also attempt to achieve the same level of accuracy by training our own convolutional network from scratch on our specific dataset.\n",
    "\n",
    "\n",
    "## Aim of this notebook \n",
    "\n",
    "The goal of this notebook is to summarize the results of all machine learning methods that were applied to this dataset. In addition, we will also compute a base model to evaluate all models. This base model will be computed by taking the modal value of the training set (training + validation set) as our predictions. "
   ]
  },
  {
   "cell_type": "code",
   "execution_count": 1,
   "id": "4c1ca46a",
   "metadata": {},
   "outputs": [
    {
     "name": "stderr",
     "output_type": "stream",
     "text": [
      "WARNING:absl:Some hub symbols are not available because TensorFlow version is less than 1.14\n"
     ]
    }
   ],
   "source": [
    "# loading libraries\n",
    "\n",
    "import tensorflow as tf\n",
    "import tensorflow_hub as hub\n",
    "import matplotlib.pyplot as plt\n",
    "import numpy as np\n",
    "import pandas as pd\n",
    "import os\n",
    "from sklearn.preprocessing import OrdinalEncoder\n"
   ]
  },
  {
   "cell_type": "code",
   "execution_count": 2,
   "id": "60ad9bb9",
   "metadata": {},
   "outputs": [],
   "source": [
    "# loading data\n",
    "# Load data\n",
    "with np.load('data/train.npz', allow_pickle=False) as npz_file:\n",
    "    X_tr = npz_file['features']\n",
    "    y_tr = npz_file['targets']\n",
    "    names_tr = npz_file['names']\n",
    "    \n",
    "with np.load('data/valid.npz', allow_pickle=False) as npz_file:\n",
    "    X_val = npz_file['features']\n",
    "    y_val = npz_file['targets']\n",
    "    names_val = npz_file['names']\n",
    "    \n",
    "with np.load('data/test.npz', allow_pickle=False) as npz_file:\n",
    "    X_te = npz_file['features']\n",
    "    y_te = npz_file['targets']\n",
    "    names_te = npz_file['names']\n",
    "    "
   ]
  },
  {
   "cell_type": "code",
   "execution_count": 3,
   "id": "b7a11ce6",
   "metadata": {},
   "outputs": [
    {
     "data": {
      "text/plain": [
       "bike          0.236277\n",
       "car           0.229117\n",
       "motorcycle    0.181384\n",
       "truck         0.150358\n",
       "other         0.114558\n",
       "van           0.088305\n",
       "dtype: float64"
      ]
     },
     "execution_count": 3,
     "metadata": {},
     "output_type": "execute_result"
    }
   ],
   "source": [
    "# Compute distribution on training set: \n",
    "\n",
    "pd.Series(np.concatenate((y_tr, y_val))).value_counts(normalize=True)"
   ]
  },
  {
   "cell_type": "code",
   "execution_count": 4,
   "id": "70721e22",
   "metadata": {},
   "outputs": [
    {
     "name": "stdout",
     "output_type": "stream",
     "text": [
      "Base Accuracy Accuracy: 0.24\n"
     ]
    }
   ],
   "source": [
    "from sklearn.dummy import DummyClassifier  \n",
    "\n",
    "# Create the dummy classifier \n",
    "\n",
    "dummy = DummyClassifier(strategy='most_frequent')\n",
    "\n",
    "#Fit \n",
    "dummy.fit(None, np.concatenate((y_tr, y_val)))\n",
    "\n",
    "# Compute the test accuracy\n",
    "\n",
    "base_accuracy = dummy.score(None, y_te)\n",
    "print('Base Accuracy Accuracy: {:.2f}'.format(base_accuracy))"
   ]
  },
  {
   "cell_type": "markdown",
   "id": "06b33d1d",
   "metadata": {},
   "source": [
    "The Base accuracy is only 24%. Now, we can load the results of all previous jupyter notebooks to display all results on a barchart.  "
   ]
  },
  {
   "cell_type": "code",
   "execution_count": 5,
   "id": "6d97fa5e",
   "metadata": {},
   "outputs": [],
   "source": [
    "# loading previous results\n",
    "\n",
    "with np.load('results/01_knn.npz', allow_pickle=False) as npz_file:\n",
    "    knn = npz_file['test_accuracy'].tolist()\n",
    "with np.load('results/02_tree.npz', allow_pickle=False) as npz_file:\n",
    "    tree = npz_file['test_accuracy'].tolist()\n",
    "with np.load('results/03_tree-pca.npz', allow_pickle=False) as npz_file:\n",
    "    tree_pca = npz_file['test_accuracy'].tolist()\n",
    "with np.load('results/04_logistic_regression.npz', allow_pickle=False) as npz_file:\n",
    "    logit = npz_file['test_accuracy'].tolist()\n",
    "with np.load('results/05_random_forest.npz', allow_pickle=False) as npz_file:\n",
    "    rf = npz_file['test_accuracy'].tolist()\n",
    "with np.load('results/06_linear_svm.npz', allow_pickle=False) as npz_file:\n",
    "    svm_linear = npz_file['test_accuracy'].tolist()\n",
    "with np.load('results/07_one_layer_dense.npz', allow_pickle=False) as npz_file:\n",
    "    net_one = npz_file['test_accuracy'].tolist()\n",
    "with np.load('results/07_rbf_svm.npz', allow_pickle=False) as npz_file:\n",
    "    svm_rbf = npz_file['test_accuracy'].tolist()\n",
    "with np.load('results/08_two_layer_dense.npz', allow_pickle=False) as npz_file:\n",
    "    net_two = npz_file['test_accuracy'].tolist()\n",
    "with np.load('results/09_CNN.npz', allow_pickle=False) as npz_file:\n",
    "    cnn = npz_file['test_accuracy'].tolist()"
   ]
  },
  {
   "cell_type": "code",
   "execution_count": 6,
   "id": "09e72751",
   "metadata": {},
   "outputs": [],
   "source": [
    "all_results = pd.DataFrame({'base' : [base_accuracy *100], \n",
    "                            'tree' : [tree*100], \n",
    "                            \"pca + tree\" : [tree_pca*100], \n",
    "                            'logistic regression' : [logit*100], \n",
    "                            'random forest' : [rf*100], \n",
    "                            'linear svm' : [svm_linear*100], \n",
    "                            'rbf svm' : [svm_rbf*100], \n",
    "                            'NN-1-layer' : [net_one*100], \n",
    "                            'NN-2-layer' : [net_two*100], \n",
    "                            'naive CNN' : [cnn*100]\n",
    "                           }, index = ['test_accuracy']).T"
   ]
  },
  {
   "cell_type": "code",
   "execution_count": 7,
   "id": "83f1bab3",
   "metadata": {},
   "outputs": [
    {
     "data": {
      "image/png": "[encoded data removed]",
      "text/plain": [
       "<Figure size 1080x720 with 1 Axes>"
      ]
     },
     "metadata": {
      "needs_background": "light"
     },
     "output_type": "display_data"
    }
   ],
   "source": [
    "%matplotlib inline\n",
    "import matplotlib.pyplot as plt\n",
    "\n",
    "fig = plt.figure(figsize=(15, 10))\n",
    "plt.bar(x =all_results.index , height = all_results['test_accuracy'])\n",
    "plt.show()\n",
    "        \n",
    "        "
   ]
  },
  {
   "cell_type": "markdown",
   "id": "66f026b2",
   "metadata": {},
   "source": [
    "As we can see on the figure above, all of our models performed better than the base model consisting as using the modal value for all predictions. Excluding the base, the worst model was the naive convolutional network, with a performance of only 54% accuracy. All other methods performed pretty similarly with an accuracy near 90% or better. \n",
    "The best performing model for us was the liear and rbf kernel svms which performed similarly with a 94% test accuracy. \n",
    "\n",
    "As discussed in the CNN notebook, the lack of performance of the naive convolutional network can be explained by several things: All other models (excluding the base model), were performed on features extracted on a well known pretrained CNN, the inception_v3 CNN. Even if this CNN was not specifically trained for this task only, it was trained on a much larger dataset. In addition, its architecture is a well documented one that has proved to be efficient on image classification tasks. Finally, the pretrained CNN beneficiated of a much better computer power than a personal computer, allowing it to be trained for a much larger number of parameters than what was feasible for us. \n",
    "\n",
    "All of this contributed to show that when trying to fit a CNN, if possible, using a pretrained model is much more efficient than creating a new one from scratch. However, if not possible, creating a CNN from scratch is still better than using a base model. "
   ]
  }
 ],
 "metadata": {
  "kernelspec": {
   "display_name": "Python 3",
   "language": "python",
   "name": "python3"
  },
  "language_info": {
   "codemirror_mode": {
    "name": "ipython",
    "version": 3
   },
   "file_extension": ".py",
   "mimetype": "text/x-python",
   "name": "python",
   "nbconvert_exporter": "python",
   "pygments_lexer": "ipython3",
   "version": "3.6.13"
  }
 },
 "nbformat": 4,
 "nbformat_minor": 5
}
